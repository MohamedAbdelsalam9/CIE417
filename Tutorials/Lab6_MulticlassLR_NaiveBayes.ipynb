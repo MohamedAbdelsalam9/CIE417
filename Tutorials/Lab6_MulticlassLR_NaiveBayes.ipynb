{
 "cells": [
  {
   "cell_type": "markdown",
   "metadata": {},
   "source": [
    "<h1 align=\"center\">Zewail University of Science and Technology</h1>\n",
    "<h2 align=\"center\">CIE 417 (Fall 2018)</h2>\n",
    "<h2 align=\"center\">Lab 6: Multiclass Logistic Regression and Naive Bayes</h3>\n",
    "<h3 align=\"center\">25/10/2018</h3>"
   ]
  },
  {
   "cell_type": "markdown",
   "metadata": {},
   "source": [
    "## <font color=\"#00cccc\">Multi-class Logistic Regression <font/>"
   ]
  },
  {
   "cell_type": "markdown",
   "metadata": {},
   "source": [
    "#### Binary Logistic Regression (sigmoid function)\n",
    "$$P(y=C_1|x) = \\sigma(w^Tx) = \\frac{1}{1+e^{-w^Tx}} = \\frac{e^{w^Tx}}{1+e^{w^Tx}}$$\n",
    "$$P(y=C_2|x) = 1 - P(y=C_1|x) = \\frac{1}{1+e^{w^Tx}}$$\n",
    "\n",
    "#### Multi-class Logistic Regression (softmax function)\n",
    "Assuming we have K classes\n",
    "$$P(y=C_i|x) = \\frac{e^{w_i^Tx}}{\\sum_{k=1}^{K}{e^{w_k^Tx}}}$$\n",
    "$$\\sum_{i=1}^K P(y=C_i|x) = \\sum_{i=1}^K \\frac{e^{w_i^Tx}}{\\sum_{k=1}^{K}{e^{w_k^Tx}}} = \\frac{\\sum_{i=1}^K e^{w_i^Tx}}{\\sum_{k=1}^{K}{e^{w_k^Tx}}} = 1$$\n",
    "Therefore, the softmax function still satisfies the condition of being a probability distribution of summing to one "
   ]
  },
  {
   "cell_type": "markdown",
   "metadata": {},
   "source": [
    "## What is the Iris dataset?\n",
    "\n",
    "##### Attributes:\n",
    "1. sepal length in cm \n",
    "2. sepal width in cm \n",
    "3. petal length in cm \n",
    "4. petal width in cm \n",
    "\n",
    "We will just use two features for easier visualization; sepal length and width.\n",
    "\n",
    "##### class: \n",
    "* Iris Setosa \n",
    "* Iris Versicolour \n",
    "* Iris Virginica\n",
    "\n",
    "<img src=\"Lab6_petal_sepal.png\">\n",
    "source: https://www.wpclipart.com/plants/diagrams/plant_parts/petal_sepal_label.png.html"
   ]
  },
  {
   "cell_type": "markdown",
   "metadata": {},
   "source": [
    "### Load and Split Dataset"
   ]
  },
  {
   "cell_type": "code",
   "execution_count": 3,
   "metadata": {
    "scrolled": false
   },
   "outputs": [
    {
     "name": "stdout",
     "output_type": "stream",
     "text": [
      "training set size: 112 samples \n",
      "test set size: 38 samples\n"
     ]
    }
   ],
   "source": [
    "from sklearn import datasets\n",
    "from sklearn.model_selection import train_test_split\n",
    "\n",
    "# import iris dataset\n",
    "iris = datasets.load_iris()\n",
    "\n",
    "X = iris.data[:, :2]\n",
    "y = iris.target\n",
    "\n",
    "#split the data into train and test sets\n",
    "X_train, X_test, y_train, y_test = train_test_split(X, y, test_size = 0.25, shuffle = True, random_state = 0)\n",
    "\n",
    "del X, y\n",
    "print (f\"training set size: {X_train.shape[0]} samples \\ntest set size: {X_test.shape[0]} samples\")"
   ]
  },
  {
   "cell_type": "markdown",
   "metadata": {},
   "source": [
    "### Preprocess Dataset"
   ]
  },
  {
   "cell_type": "code",
   "execution_count": 4,
   "metadata": {},
   "outputs": [
    {
     "data": {
      "image/png": "[encoded data removed]",
      "text/plain": [
       "<Figure size 1152x432 with 1 Axes>"
      ]
     },
     "metadata": {},
     "output_type": "display_data"
    }
   ],
   "source": [
    "from sklearn.preprocessing import StandardScaler\n",
    "from lab6_functions import plot_iris_data\n",
    "\n",
    "#Standardize Dataset (substract training set mean and divide by training set standard deviation)\n",
    "scaler = StandardScaler().fit(X_train) #the scaler is fitted to the training set (it gets the mean and std of the training set)\n",
    "X_train_standardized = scaler.transform(X_train) #the scaler is applied to the training set\n",
    "X_test_standardized = scaler.transform(X_test) #the scaler is applied to the test set\n",
    "del X_train, X_test\n",
    "\n",
    "#plot the data\n",
    "plot_iris_data(X_train_standardized, y_train)"
   ]
  },
  {
   "cell_type": "markdown",
   "metadata": {},
   "source": [
    "### <font color=\"#ef0000\"> Exercise 1: Classify the iris dataset using scikit-learn LogisticRegression <font/>"
   ]
  },
  {
   "cell_type": "markdown",
   "metadata": {},
   "source": [
    "#### <font color=\"#ef0000\"> Write Your Code Here <font/>\n",
    "<font color=\"#ef0000\"> Use C=1e5 (nearly no regularization), multi_class='multinomial', solver='lbfgs' <font/>\n",
    "<font color=\"#ef0000\"> Put the classifier object in a variable called \"classifier\", Print the training and test error <font/>"
   ]
  },
  {
   "cell_type": "code",
   "execution_count": null,
   "metadata": {},
   "outputs": [],
   "source": [
    "from sklearn.linear_model import LogisticRegression\n",
    "\n",
    "## write your code here"
   ]
  },
  {
   "cell_type": "code",
   "execution_count": null,
   "metadata": {
    "scrolled": true
   },
   "outputs": [],
   "source": [
    "from lab6_functions import plot_iris_data_classified\n",
    "plot_iris_data_classified(classifier, X_train_standardized, y_train, X_test_standardized, y_test, .02)"
   ]
  },
  {
   "cell_type": "markdown",
   "metadata": {},
   "source": [
    "## <font color = \"#af00af\"> What is the C parameter? <font/>"
   ]
  },
  {
   "cell_type": "markdown",
   "metadata": {},
   "source": [
    "## <font color=\"#cccc00\">Naive Bayes <font/>"
   ]
  },
  {
   "cell_type": "markdown",
   "metadata": {},
   "source": [
    "### Bayes Theorem:\n",
    "$$p(C_k|x) = \\frac{P(x|C_k) P(C_k)}{P(x)}$$\n",
    "\n",
    "#### Where C_i is class i, and x is the feature vector\n",
    "\n",
    "$$posterior = \\frac{likelihood\\ X\\ prior}{evidence}$$\n",
    "\n",
    "#### as P(x) is the same for all classes (constant)\n",
    "\n",
    "$$p(C_k|x) \\propto P(x|C_k) P(C_k)$$\n",
    "\n",
    "$$p(C_k|x_1, x_2, ..., x_d) \\propto P(x_1, x_2, ..., x_d|C_k) P(C_k)$$\n",
    "\n",
    "#### where d is the number of features per sample\n",
    "\n",
    "$$p(x_1, x_2, ..., x_d|C_k) = p(x_1|x_2, ..., x_d, C_k)p(x_2, ..., x_d, C_k) $$\n",
    "$$ = p(x_1|x_2, ..., x_d, C_k)p(x_2|x_3, ..., x_d, C_k) ... p(x_d|C_k)$$\n",
    "\n",
    "#### which is very hard to calculate, therefore we assume independence between features, and hence\n",
    "$$p(x_1, x_2, ..., x_d|C_k) = p(x_1|C_k)p(x_2|C_k) ... p(x_d|C_k) = \\prod_{i=1}^{d}p(x_i|C_k) $$\n",
    "\n",
    "#### which leads to the follwing simplified equation\n",
    "\n",
    "$$p(C_k|x) \\propto p(C_k)\\prod_{i=1}^{d}p(x_i|C_k) $$\n",
    "\n",
    "#### We can now estimate the class based on the Maximum A Posteriori (MAP) estimate\n",
    "\n",
    "$$\\DeclareMathOperator*{\\argmax}{arg\\!\\max}$$\n",
    "$$\\hat{y} = \\argmax_{k\\in\\{1,...,K\\}} p(C_k)\\prod_{i=1}^{d}p(x_i|C_k) = \\argmax_{k\\in\\{1,...,K\\}} \\log{p(C_k)}\\sum_{i=1}^{d}\\log{p(x_i|C_k)}$$\n",
    "\n",
    "#### where K is the number of classes"
   ]
  },
  {
   "cell_type": "markdown",
   "metadata": {},
   "source": [
    "## <font color = \"#af00af\"> Why is it called \"Naive\" Bayes? <font/>"
   ]
  },
  {
   "cell_type": "markdown",
   "metadata": {},
   "source": [
    "## <font color = \"#af00af\"> How can we estimate prior $p(C_k)$? <font/>"
   ]
  },
  {
   "cell_type": "markdown",
   "metadata": {},
   "source": [
    "## <font color = \"#af00af\"> How can we estimate likelihood $p(x_i|C_k)$? <font/>"
   ]
  },
  {
   "cell_type": "markdown",
   "metadata": {},
   "source": [
    "### Gaussian Naive Bayes"
   ]
  },
  {
   "cell_type": "code",
   "execution_count": 5,
   "metadata": {},
   "outputs": [
    {
     "data": {
      "image/png": "[encoded data removed]",
      "text/plain": [
       "<Figure size 432x288 with 1 Axes>"
      ]
     },
     "metadata": {},
     "output_type": "display_data"
    }
   ],
   "source": [
    "import matplotlib.pyplot as plt\n",
    "\n",
    "from sklearn.datasets import make_blobs\n",
    "X__, y__ = make_blobs(100, 2, centers=2, random_state=2, cluster_std=1.5)\n",
    "plt.scatter(X__[:, 0], X__[:, 1], c=y__, s=50, cmap='RdBu');\n",
    "plt.show()"
   ]
  },
  {
   "cell_type": "markdown",
   "metadata": {},
   "source": [
    "<img src=\"Lab6_gaussian_NB.png\">\n",
    "source: https://jakevdp.github.io/PythonDataScienceHandbook/05.05-naive-bayes.html"
   ]
  },
  {
   "cell_type": "markdown",
   "metadata": {},
   "source": [
    "### <font color=\"#ef0000\"> Exercise 2: Classify the iris dataset using scikit-learn GaussianNB <font/>"
   ]
  },
  {
   "cell_type": "markdown",
   "metadata": {},
   "source": [
    "#### <font color=\"#ef0000\"> Write Your Code Here <font/>\n",
    "<font color=\"#ef0000\"> Put the classifier object in a variable called \"classifier\", Print the training and test error <font/>"
   ]
  },
  {
   "cell_type": "code",
   "execution_count": null,
   "metadata": {},
   "outputs": [],
   "source": [
    "from sklearn.naive_bayes import GaussianNB\n",
    "\n",
    "## write your code here"
   ]
  },
  {
   "cell_type": "code",
   "execution_count": null,
   "metadata": {
    "scrolled": false
   },
   "outputs": [],
   "source": [
    "from lab6_functions import plot_iris_data_classified\n",
    "plot_iris_data_classified(classifier, X_train_standardized, y_train, X_test_standardized, y_test, .02)"
   ]
  },
  {
   "cell_type": "markdown",
   "metadata": {},
   "source": [
    "## <font color = \"#af00af\"> How does GaussianNB function estimate the mean $\\mu$ and the variance $\\sigma$ of the normally distributed likelihood of the features? <font/>\n",
    "<font color = \"#af00af\"> $$p(x_i|C_k) = \\frac{1}{\\sqrt{2\\pi\\sigma_y^2}}\\exp{-\\frac{(x_i-\\mu_y)^2}{2\\sigma_y^2}}$$<font/>"
   ]
  },
  {
   "cell_type": "markdown",
   "metadata": {},
   "source": [
    "## <font color = \"#af00af\"> What to do if the features are binary or represent count (number of occurances)? <font/>"
   ]
  },
  {
   "cell_type": "code",
   "execution_count": null,
   "metadata": {},
   "outputs": [],
   "source": []
  }
 ],
 "metadata": {
  "kernelspec": {
   "display_name": "Python 3",
   "language": "python",
   "name": "python3"
  },
  "language_info": {
   "codemirror_mode": {
    "name": "ipython",
    "version": 3
   },
   "file_extension": ".py",
   "mimetype": "text/x-python",
   "name": "python",
   "nbconvert_exporter": "python",
   "pygments_lexer": "ipython3",
   "version": "3.6.5"
  }
 },
 "nbformat": 4,
 "nbformat_minor": 2
}
