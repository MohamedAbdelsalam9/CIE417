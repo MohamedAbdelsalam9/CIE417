{
 "cells": [
  {
   "cell_type": "markdown",
   "metadata": {},
   "source": [
    "<h1 align=\"center\">Zewail University of Science and Technology</h1>\n",
    "<h2 align=\"center\">CIE 417 (Fall 2018)</h2>\n",
    "<h2 align=\"center\">Lab 1: Python Tutorial</h3>\n",
    "<h3 align=\"center\">20/09/2018</h3>"
   ]
  },
  {
   "cell_type": "markdown",
   "metadata": {},
   "source": [
    "### Dynamically Typed Language"
   ]
  },
  {
   "cell_type": "code",
   "execution_count": 50,
   "metadata": {},
   "outputs": [
    {
     "name": "stdout",
     "output_type": "stream",
     "text": [
      "2.1\n"
     ]
    }
   ],
   "source": [
    "x = 1 #x is bound to a value of type int\n",
    "x *= 2.1 #x is now bound to another value of type float\n",
    "print (x)"
   ]
  },
  {
   "cell_type": "markdown",
   "metadata": {},
   "source": [
    "### Conditional"
   ]
  },
  {
   "cell_type": "code",
   "execution_count": 279,
   "metadata": {},
   "outputs": [
    {
     "name": "stdout",
     "output_type": "stream",
     "text": [
      "x is greater than y\n"
     ]
    }
   ],
   "source": [
    "x = 2\n",
    "y = 1\n",
    "\n",
    "if x == y:\n",
    "    print(\"x equals y\")\n",
    "elif x > y:\n",
    "    print (\"x is greater than y\")\n",
    "else:\n",
    "    print (\"x is smaller than y\")"
   ]
  },
  {
   "cell_type": "markdown",
   "metadata": {},
   "source": [
    "### Strings"
   ]
  },
  {
   "cell_type": "code",
   "execution_count": 284,
   "metadata": {},
   "outputs": [
    {
     "name": "stdout",
     "output_type": "stream",
     "text": [
      "This is a single line written in two lines\n"
     ]
    }
   ],
   "source": [
    "x = \"This is a single \\\n",
    "line written in two lines\"  # \\ is used to continue the statement in another line\n",
    "print(x)"
   ]
  },
  {
   "cell_type": "code",
   "execution_count": 66,
   "metadata": {},
   "outputs": [
    {
     "name": "stdout",
     "output_type": "stream",
     "text": [
      "This is a\n",
      "three\n",
      "    lines\n",
      "        statement\n"
     ]
    }
   ],
   "source": [
    "x = '''This is a\n",
    "three\n",
    "    lines\n",
    "        statement'''\n",
    "print(x)"
   ]
  },
  {
   "cell_type": "code",
   "execution_count": 67,
   "metadata": {},
   "outputs": [
    {
     "name": "stdout",
     "output_type": "stream",
     "text": [
      "Hello\n"
     ]
    }
   ],
   "source": [
    "x = 'Hello World' \n",
    "print(x[0:5]) #strings are indexable"
   ]
  },
  {
   "cell_type": "code",
   "execution_count": 72,
   "metadata": {},
   "outputs": [
    {
     "name": "stdout",
     "output_type": "stream",
     "text": [
      "2018\n"
     ]
    }
   ],
   "source": [
    "x = \"20\"\n",
    "y = \"18\"\n",
    "print(x + y) #strings can be concatenated using + operator"
   ]
  },
  {
   "cell_type": "code",
   "execution_count": 86,
   "metadata": {},
   "outputs": [
    {
     "name": "stdout",
     "output_type": "stream",
     "text": [
      "2018\n",
      "2018.00\n",
      "2018\n"
     ]
    }
   ],
   "source": [
    "#non-string objects can be converted to strings using str() or format()\n",
    "x = \"20\"\n",
    "y = 18\n",
    "print(x + str(y))\n",
    "print(x + format(y, \"0.2f\"))\n",
    "print(x + format(y, \"d\"))"
   ]
  },
  {
   "cell_type": "code",
   "execution_count": 87,
   "metadata": {},
   "outputs": [
    {
     "ename": "TypeError",
     "evalue": "'str' object does not support item assignment",
     "output_type": "error",
     "traceback": [
      "\u001b[1;31m---------------------------------------------------------------------------\u001b[0m",
      "\u001b[1;31mTypeError\u001b[0m                                 Traceback (most recent call last)",
      "\u001b[1;32m<ipython-input-87-4aa45294cf9e>\u001b[0m in \u001b[0;36m<module>\u001b[1;34m()\u001b[0m\n\u001b[0;32m      1\u001b[0m \u001b[0mx\u001b[0m \u001b[1;33m=\u001b[0m \u001b[1;34m\"Hello\"\u001b[0m\u001b[1;33m\u001b[0m\u001b[0m\n\u001b[1;32m----> 2\u001b[1;33m \u001b[0mx\u001b[0m\u001b[1;33m[\u001b[0m\u001b[1;36m1\u001b[0m\u001b[1;33m]\u001b[0m \u001b[1;33m=\u001b[0m \u001b[1;34m's'\u001b[0m \u001b[1;31m#strings are immutable\u001b[0m\u001b[1;33m\u001b[0m\u001b[0m\n\u001b[0m",
      "\u001b[1;31mTypeError\u001b[0m: 'str' object does not support item assignment"
     ]
    }
   ],
   "source": [
    "x = \"Hello\"\n",
    "x[1] = 's' #strings are immutable"
   ]
  },
  {
   "cell_type": "markdown",
   "metadata": {},
   "source": [
    "### Lists"
   ]
  },
  {
   "cell_type": "code",
   "execution_count": 287,
   "metadata": {},
   "outputs": [],
   "source": [
    "x = [\"Hello\", \"World\", \".\"]"
   ]
  },
  {
   "cell_type": "code",
   "execution_count": 125,
   "metadata": {},
   "outputs": [
    {
     "name": "stdout",
     "output_type": "stream",
     "text": [
      "Hello\n"
     ]
    }
   ],
   "source": [
    "#lists are indexable\n",
    "print (x[0])"
   ]
  },
  {
   "cell_type": "code",
   "execution_count": 126,
   "metadata": {},
   "outputs": [
    {
     "name": "stdout",
     "output_type": "stream",
     "text": [
      ".\n",
      "!\n"
     ]
    }
   ],
   "source": [
    "#lists are mutable\n",
    "print (x[2])\n",
    "x[2] = \"!\"\n",
    "print (x[2])"
   ]
  },
  {
   "cell_type": "code",
   "execution_count": 127,
   "metadata": {},
   "outputs": [
    {
     "name": "stdout",
     "output_type": "stream",
     "text": [
      "['Hello', 'World', '!', '!']\n"
     ]
    }
   ],
   "source": [
    "#appending items at the end\n",
    "x.append(\"!\")\n",
    "print (x)"
   ]
  },
  {
   "cell_type": "code",
   "execution_count": 289,
   "metadata": {},
   "outputs": [
    {
     "name": "stdout",
     "output_type": "stream",
     "text": [
      "['Hello,', ',', ' ', '.']\n"
     ]
    }
   ],
   "source": [
    "#inserting items in the middle\n",
    "x.insert(1,\",\")\n",
    "print (x)"
   ]
  },
  {
   "cell_type": "code",
   "execution_count": 288,
   "metadata": {},
   "outputs": [
    {
     "name": "stdout",
     "output_type": "stream",
     "text": [
      "['Hello,', ' ', '.']\n"
     ]
    }
   ],
   "source": [
    "#slicing\n",
    "x[0:2] = ['Hello,', ' ']\n",
    "print(x)"
   ]
  },
  {
   "cell_type": "code",
   "execution_count": 133,
   "metadata": {},
   "outputs": [
    {
     "name": "stdout",
     "output_type": "stream",
     "text": [
      "['Hello', ', ', 'World', '!']\n"
     ]
    }
   ],
   "source": [
    "#lists Concatenation\n",
    "x = [\"Hello\", \", \"]\n",
    "y = [\"World\", \"!\"]\n",
    "print(x + y)"
   ]
  },
  {
   "cell_type": "code",
   "execution_count": 136,
   "metadata": {},
   "outputs": [
    {
     "name": "stdout",
     "output_type": "stream",
     "text": [
      "[', ', 'World']\n",
      ", \n"
     ]
    }
   ],
   "source": [
    "#lists within lists\n",
    "x = [\"Hello\", [\", \", \"World\"], \"!\"]\n",
    "print(x[1])\n",
    "print(x[1][0])"
   ]
  },
  {
   "cell_type": "markdown",
   "metadata": {},
   "source": [
    "### Tuples"
   ]
  },
  {
   "cell_type": "code",
   "execution_count": 293,
   "metadata": {},
   "outputs": [],
   "source": [
    "x= (\"Hello\", \",\")\n",
    "y = \"World\", \"!\"  #This is also a tuple"
   ]
  },
  {
   "cell_type": "code",
   "execution_count": 152,
   "metadata": {},
   "outputs": [
    {
     "name": "stdout",
     "output_type": "stream",
     "text": [
      "Hello\n",
      "('Hello', ',')\n",
      "('Hello', ',', 'World', '!')\n"
     ]
    }
   ],
   "source": [
    "#indexing\n",
    "print(x[0])\n",
    "\n",
    "#slicing\n",
    "print (x[0:2])\n",
    "\n",
    "#concatenating\n",
    "print (x + y)"
   ]
  },
  {
   "cell_type": "code",
   "execution_count": 153,
   "metadata": {},
   "outputs": [
    {
     "ename": "TypeError",
     "evalue": "'tuple' object does not support item assignment",
     "output_type": "error",
     "traceback": [
      "\u001b[1;31m---------------------------------------------------------------------------\u001b[0m",
      "\u001b[1;31mTypeError\u001b[0m                                 Traceback (most recent call last)",
      "\u001b[1;32m<ipython-input-153-985c0611f4f6>\u001b[0m in \u001b[0;36m<module>\u001b[1;34m()\u001b[0m\n\u001b[0;32m      1\u001b[0m \u001b[1;31m#tuples are immutable\u001b[0m\u001b[1;33m\u001b[0m\u001b[1;33m\u001b[0m\u001b[0m\n\u001b[1;32m----> 2\u001b[1;33m \u001b[0mx\u001b[0m\u001b[1;33m[\u001b[0m\u001b[1;36m0\u001b[0m\u001b[1;33m]\u001b[0m \u001b[1;33m=\u001b[0m \u001b[1;34m\"s\"\u001b[0m\u001b[1;33m\u001b[0m\u001b[0m\n\u001b[0m",
      "\u001b[1;31mTypeError\u001b[0m: 'tuple' object does not support item assignment"
     ]
    }
   ],
   "source": [
    "#tuples are immutable\n",
    "x[0] = \"s\""
   ]
  },
  {
   "cell_type": "code",
   "execution_count": 299,
   "metadata": {},
   "outputs": [
    {
     "name": "stdout",
     "output_type": "stream",
     "text": [
      "Hello\n",
      ",\n"
     ]
    }
   ],
   "source": [
    "#unpacking tuples\n",
    "var1, var2 = x\n",
    "print(var1)\n",
    "print(var2)"
   ]
  },
  {
   "cell_type": "code",
   "execution_count": 302,
   "metadata": {},
   "outputs": [
    {
     "data": {
      "text/plain": [
       "([1, 2, 3], 's')"
      ]
     },
     "execution_count": 302,
     "metadata": {},
     "output_type": "execute_result"
    }
   ],
   "source": [
    "x = ([1,2,3], \"s\")\n",
    "x"
   ]
  },
  {
   "cell_type": "markdown",
   "metadata": {},
   "source": [
    "### Sets"
   ]
  },
  {
   "cell_type": "code",
   "execution_count": 304,
   "metadata": {},
   "outputs": [
    {
     "name": "stdout",
     "output_type": "stream",
     "text": [
      "{1, 2, 3}\n",
      "{'H', 'e', 'l', 'o'}\n"
     ]
    }
   ],
   "source": [
    "#sets are unordered and don't contain duplicates\n",
    "x = set([1,2,3,1,2])\n",
    "y = set(\"Hello\")\n",
    "print(x)\n",
    "print(y)"
   ]
  },
  {
   "cell_type": "code",
   "execution_count": 306,
   "metadata": {},
   "outputs": [
    {
     "name": "stdout",
     "output_type": "stream",
     "text": [
      "{1, 2, 3, 4, 6}\n",
      "{2}\n",
      "{1, 3}\n",
      "{1, 3, 4, 6}\n"
     ]
    }
   ],
   "source": [
    "x = set([1,2,3])\n",
    "y = set([2,4,6])\n",
    "\n",
    "#union\n",
    "print (x | y)\n",
    "\n",
    "#intersection\n",
    "print (x & y)\n",
    "\n",
    "#difference\n",
    "print (x - y)\n",
    "\n",
    "#symmetric difference\n",
    "print (x ^ y)"
   ]
  },
  {
   "cell_type": "code",
   "execution_count": 305,
   "metadata": {},
   "outputs": [
    {
     "name": "stdout",
     "output_type": "stream",
     "text": [
      "{1, 2, 3, 4}\n",
      "{'e', 6, 8, 10, 'H', 'l', 'o'}\n"
     ]
    }
   ],
   "source": [
    "#single items can be added using add(), multiple items can be added using update()\n",
    "x.add(4)\n",
    "y.update([6,8,10])\n",
    "print(x)\n",
    "print(y)"
   ]
  },
  {
   "cell_type": "code",
   "execution_count": 177,
   "metadata": {},
   "outputs": [
    {
     "name": "stdout",
     "output_type": "stream",
     "text": [
      "{1, 2, 4}\n"
     ]
    }
   ],
   "source": [
    "#items can be removed using remove()\n",
    "x.remove(3)\n",
    "print(x)"
   ]
  },
  {
   "cell_type": "markdown",
   "metadata": {},
   "source": [
    "### Dictionaries"
   ]
  },
  {
   "cell_type": "code",
   "execution_count": 310,
   "metadata": {},
   "outputs": [
    {
     "name": "stdout",
     "output_type": "stream",
     "text": [
      "Ahmed\n"
     ]
    }
   ],
   "source": [
    "#dictionary initialization\n",
    "student = {\"name\" : \"Ahmed\", \"id\":20150001, \"courses\":[\"CIE 417\", \"CIE 418\", \"CIE 419\"]}\n",
    "\n",
    "#accessing members\n",
    "print(student[\"name\"])"
   ]
  },
  {
   "cell_type": "code",
   "execution_count": 315,
   "metadata": {},
   "outputs": [
    {
     "name": "stdout",
     "output_type": "stream",
     "text": [
      "{'name': 'Ahmed', 'id': 20150001, 'courses': ['CIE 417', 'CIE 418', 'CIE 419'], 0: 'as', 'GPA': 1.0}\n"
     ]
    }
   ],
   "source": [
    "#check for a dictionary member, and add it if it is not found\n",
    "if \"GPA\" in student:\n",
    "    print(student)\n",
    "else:\n",
    "    student[\"GPA\"] = 1.00\n",
    "    print(student)"
   ]
  },
  {
   "cell_type": "code",
   "execution_count": 317,
   "metadata": {},
   "outputs": [
    {
     "name": "stdout",
     "output_type": "stream",
     "text": [
      "Ahmed 01000000000\n"
     ]
    }
   ],
   "source": [
    "#get() function returns the value if found, or return a default value if not\n",
    "name = student.get(\"name\", \"Mohamed\")\n",
    "number = student.get(\"number\", \"01000000000\")\n",
    "print(name,number)"
   ]
  },
  {
   "cell_type": "code",
   "execution_count": 320,
   "metadata": {},
   "outputs": [
    {
     "data": {
      "text/plain": [
       "{'name': 'Ahmed',\n",
       " 'id': 20150001,\n",
       " 'courses': ['CIE 417', 'CIE 418', 'CIE 419'],\n",
       " 0: 'as',\n",
       " 'GPA': 1.0,\n",
       " 'number': 10012}"
      ]
     },
     "execution_count": 320,
     "metadata": {},
     "output_type": "execute_result"
    }
   ],
   "source": [
    "student[\"number\"] = int(\"010012\")\n",
    "student"
   ]
  },
  {
   "cell_type": "code",
   "execution_count": 321,
   "metadata": {},
   "outputs": [
    {
     "name": "stdout",
     "output_type": "stream",
     "text": [
      "{'name': 'Ahmed', 'id': 20150001, 'courses': ['CIE 417', 'CIE 418', 'CIE 419'], 0: 'as', 'number': 10012}\n"
     ]
    }
   ],
   "source": [
    "#delete dictionary member\n",
    "del student[\"GPA\"]\n",
    "print(student)"
   ]
  },
  {
   "cell_type": "code",
   "execution_count": 322,
   "metadata": {},
   "outputs": [
    {
     "name": "stdout",
     "output_type": "stream",
     "text": [
      "['name', 'id', 'courses', 0, 'number']\n"
     ]
    }
   ],
   "source": [
    "#get a list of dictionary keys using list(student)\n",
    "print (list(student))"
   ]
  },
  {
   "cell_type": "code",
   "execution_count": 324,
   "metadata": {},
   "outputs": [
    {
     "data": {
      "text/plain": [
       "{'name': 'Ahmed',\n",
       " 'id': 20150001,\n",
       " 'courses': ['CIE 417', 'CIE 418', 'CIE 419'],\n",
       " 0: 'as',\n",
       " 'number': None}"
      ]
     },
     "execution_count": 324,
     "metadata": {},
     "output_type": "execute_result"
    }
   ],
   "source": [
    "student[\"number\"] = None\n",
    "student"
   ]
  },
  {
   "cell_type": "code",
   "execution_count": 329,
   "metadata": {},
   "outputs": [
    {
     "data": {
      "text/plain": [
       "['Ahmed', 20150001, ['CIE 417', 'CIE 418', 'CIE 419'], 'as', None]"
      ]
     },
     "execution_count": 329,
     "metadata": {},
     "output_type": "execute_result"
    }
   ],
   "source": [
    "list(student.values())"
   ]
  },
  {
   "cell_type": "markdown",
   "metadata": {},
   "source": [
    "### Iteration"
   ]
  },
  {
   "cell_type": "code",
   "execution_count": 23,
   "metadata": {},
   "outputs": [
    {
     "name": "stdout",
     "output_type": "stream",
     "text": [
      "5\n",
      "4\n",
      "3\n",
      "2\n",
      "1\n"
     ]
    }
   ],
   "source": [
    "#while loop\n",
    "x = 5\n",
    "while x:\n",
    "    print(x)\n",
    "    x -= 1"
   ]
  },
  {
   "cell_type": "code",
   "execution_count": 31,
   "metadata": {},
   "outputs": [
    {
     "name": "stdout",
     "output_type": "stream",
     "text": [
      "0 1 2 3 4 5 \n",
      "5 6 7 8 9 10 \n",
      "0 2 4 6 8 10 "
     ]
    }
   ],
   "source": [
    "#for loop using range\n",
    "for i in range(6):\n",
    "    print(i,end=\" \")\n",
    "    \n",
    "print(\"\")\n",
    "for i in range(5, 11):\n",
    "    print(i,end=\" \")\n",
    "    \n",
    "print(\"\")\n",
    "for i in range(0, 11, 2):\n",
    "    print(i,end=\" \")"
   ]
  },
  {
   "cell_type": "code",
   "execution_count": 331,
   "metadata": {},
   "outputs": [
    {
     "name": "stdout",
     "output_type": "stream",
     "text": [
      "H e l l o \n",
      "\n",
      "W o r l d \n",
      "\n",
      "name Ahmed\n",
      "id 20150001\n",
      "courses ['CIE 417', 'CIE 418', 'CIE 419']\n",
      "\n",
      "\n",
      "Ahmed 20150001 ['CIE 417', 'CIE 418', 'CIE 419']\n",
      "Mohamed 20150002 ['CIE 417', 'CIE 418', 'CIE 419']\n"
     ]
    }
   ],
   "source": [
    "#iterating over iterables\n",
    "\n",
    "#iterating over the characters of a string\n",
    "x = \"Hello\"\n",
    "for c in x:\n",
    "    print (c, end=\" \")\n",
    "    \n",
    "#iterating over a list\n",
    "print(\"\\n\")\n",
    "x = [\"W\", \"o\", \"r\", \"l\", \"d\"]\n",
    "for c in x:\n",
    "    print (c, end=\" \")\n",
    "    \n",
    "#iterating over a dictionary\n",
    "print(\"\\n\")\n",
    "student = {\"name\" : \"Ahmed\", \"id\":20150001, \"courses\":[\"CIE 417\", \"CIE 418\", \"CIE 419\"]}\n",
    "for key in student:\n",
    "    print (key, student[key])\n",
    "    \n",
    "#iterating over a list of tuples\n",
    "print(\"\\n\")\n",
    "student = [(\"Ahmed\", 20150001, [\"CIE 417\", \"CIE 418\", \"CIE 419\"]), (\"Mohamed\", 20150002, [\"CIE 417\", \"CIE 418\", \"CIE 419\"])]\n",
    "for name, uni_id, courses in student:\n",
    "    print (name, uni_id, courses)"
   ]
  },
  {
   "cell_type": "code",
   "execution_count": 334,
   "metadata": {},
   "outputs": [
    {
     "name": "stdout",
     "output_type": "stream",
     "text": [
      "['0', '2', '4', '6', '8', '10', '12', '14', '16', '18']\n"
     ]
    }
   ],
   "source": [
    "#list comprehension, for example create a list of even numbers as strings\n",
    "y = [str(i) for i in range(20) if i%2==0]\n",
    "print(y)"
   ]
  },
  {
   "cell_type": "markdown",
   "metadata": {},
   "source": [
    "### Functions"
   ]
  },
  {
   "cell_type": "code",
   "execution_count": 49,
   "metadata": {},
   "outputs": [
    {
     "name": "stdout",
     "output_type": "stream",
     "text": [
      "27\n",
      "9\n",
      "27\n"
     ]
    }
   ],
   "source": [
    "def power(x, y=2): #y has a default value\n",
    "    result = x**y\n",
    "    return result\n",
    "\n",
    "Result = power(3,3)\n",
    "print (Result)\n",
    "\n",
    "Result = power(3) #use default value of y\n",
    "print (Result)\n",
    "\n",
    "Result = power(x=3,y=3) #to remove ambiguities\n",
    "print (Result)"
   ]
  },
  {
   "cell_type": "code",
   "execution_count": 340,
   "metadata": {},
   "outputs": [
    {
     "name": "stdout",
     "output_type": "stream",
     "text": [
      "1.00/1/2018\n",
      "20.00/1/2018\n",
      "20.00/9/2018\n"
     ]
    }
   ],
   "source": [
    "#we can choose what parameters to use if they have default values\n",
    "def date(year, month=1, day=1):\n",
    "    print(f\"{day:.2f}/{month}/{year}\")\n",
    "    \n",
    "date(2018)\n",
    "date(2018, day=20)\n",
    "date(2018, day=20, month=9) #arbitrary order"
   ]
  },
  {
   "cell_type": "code",
   "execution_count": 341,
   "metadata": {},
   "outputs": [
    {
     "name": "stdout",
     "output_type": "stream",
     "text": [
      "x = x, y = [1, 2]\n",
      "x = [1, 2], y = x\n",
      "('x', [1, 2])\n"
     ]
    }
   ],
   "source": [
    "#return multiple outputs\n",
    "def reverse_inputs(x,y):\n",
    "    return y,x #a tuple\n",
    "\n",
    "x = \"x\"\n",
    "y = [1,2]\n",
    "print (f\"x = {x}, y = {y}\")\n",
    "\n",
    "x,y = reverse_inputs(x,y) #unpack resulting tuple\n",
    "print (f\"x = {x}, y = {y}\")\n",
    "\n",
    "result = reverse_inputs(x,y) #return as a tuple\n",
    "print (result)"
   ]
  },
  {
   "cell_type": "code",
   "execution_count": 81,
   "metadata": {
    "scrolled": true
   },
   "outputs": [
    {
     "name": "stdout",
     "output_type": "stream",
     "text": [
      "foo_local\n",
      "local x = ['y']\n",
      "global x = ['s']\n",
      "\n",
      "foo_local\n",
      "local x = ['y']\n",
      "global x = ['y']\n",
      "\n"
     ]
    }
   ],
   "source": [
    "#use global keyword inside function to change the global variable and not the local variable\n",
    "x = [\"s\"]\n",
    "def foo_local():\n",
    "    x = [\"y\"]\n",
    "    print(\"foo_local\")\n",
    "    print(f\"local x = {x}\")\n",
    "\n",
    "foo_local()\n",
    "print(f\"global x = {x}\\n\")\n",
    "\n",
    "x = [\"s\"]\n",
    "def foo_global():\n",
    "    global x\n",
    "    x = [\"y\"]\n",
    "    print(\"foo_local\")\n",
    "    print(f\"local x = {x}\")\n",
    "\n",
    "foo_global()\n",
    "print(f\"global x = {x}\\n\")"
   ]
  },
  {
   "cell_type": "code",
   "execution_count": 345,
   "metadata": {},
   "outputs": [
    {
     "name": "stdout",
     "output_type": "stream",
     "text": [
      "[3, 5]\n",
      "[3, 5]\n"
     ]
    }
   ],
   "source": [
    "x = [3]\n",
    "def foo(x):\n",
    "    x.append(5)\n",
    "    print(x)\n",
    "foo(x)\n",
    "print(x)"
   ]
  },
  {
   "cell_type": "markdown",
   "metadata": {},
   "source": [
    "### Classes"
   ]
  },
  {
   "cell_type": "code",
   "execution_count": 350,
   "metadata": {},
   "outputs": [],
   "source": [
    "class Stack(object):\n",
    "    def __init__(self): #Initialize the stack\n",
    "        self.stack = [ ]\n",
    "    def push(self,object):\n",
    "        self.stack.append(object)\n",
    "    def pop(self):\n",
    "        return self.stack.pop()\n",
    "    def length(self):\n",
    "        return len(self.stack)"
   ]
  },
  {
   "cell_type": "code",
   "execution_count": 351,
   "metadata": {},
   "outputs": [],
   "source": [
    "x = Stack() #create a new object x\n",
    "x.push(\"h\")\n",
    "x.push([\"e\",\"l\"])\n",
    "x.push((\"l\",\"o\"))"
   ]
  },
  {
   "cell_type": "code",
   "execution_count": 113,
   "metadata": {},
   "outputs": [
    {
     "data": {
      "text/plain": [
       "3"
      ]
     },
     "execution_count": 113,
     "metadata": {},
     "output_type": "execute_result"
    }
   ],
   "source": [
    "x.length()"
   ]
  },
  {
   "cell_type": "code",
   "execution_count": 114,
   "metadata": {},
   "outputs": [
    {
     "name": "stdout",
     "output_type": "stream",
     "text": [
      "('l', 'o')\n",
      "['e', 'l']\n",
      "h\n"
     ]
    }
   ],
   "source": [
    "while x.length() > 0:\n",
    "    print(x.pop())"
   ]
  },
  {
   "cell_type": "markdown",
   "metadata": {},
   "source": [
    "### Numpy"
   ]
  },
  {
   "cell_type": "code",
   "execution_count": 121,
   "metadata": {},
   "outputs": [],
   "source": [
    "import numpy as np"
   ]
  },
  {
   "cell_type": "code",
   "execution_count": 138,
   "metadata": {},
   "outputs": [
    {
     "name": "stdout",
     "output_type": "stream",
     "text": [
      "<class 'numpy.ndarray'>\n",
      "[[1. 2. 3.]\n",
      " [4. 5. 6.]]\n",
      "shape: (2, 3)\n"
     ]
    }
   ],
   "source": [
    "#array initialization from list\n",
    "x = [[1,2,3],[4,5,6]]\n",
    "x_np = np.array(x, dtype=np.float64)\n",
    "print(type(x_np))\n",
    "print(x_np)\n",
    "print(f\"shape: {x_np.shape}\")"
   ]
  },
  {
   "cell_type": "code",
   "execution_count": 147,
   "metadata": {},
   "outputs": [
    {
     "name": "stdout",
     "output_type": "stream",
     "text": [
      "[[1. 1. 1.]\n",
      " [1. 1. 1.]]\n",
      "shape: (2, 3)\n",
      "\n",
      "[[[0. 0.]\n",
      "  [0. 0.]\n",
      "  [0. 0.]]\n",
      "\n",
      " [[0. 0.]\n",
      "  [0. 0.]\n",
      "  [0. 0.]]\n",
      "\n",
      " [[0. 0.]\n",
      "  [0. 0.]\n",
      "  [0. 0.]]]\n",
      "shape: (3, 3, 2)\n",
      "\n"
     ]
    }
   ],
   "source": [
    "#array initialization from ones or zeros\n",
    "x = np.ones((2,3))\n",
    "y = np.zeros((3,3,2))\n",
    "print(x)\n",
    "print(f\"shape: {x.shape}\\n\")\n",
    "print(y)\n",
    "print(f\"shape: {y.shape}\\n\")"
   ]
  },
  {
   "cell_type": "code",
   "execution_count": 153,
   "metadata": {},
   "outputs": [
    {
     "name": "stdout",
     "output_type": "stream",
     "text": [
      "[[1. 0. 0. 0.]\n",
      " [0. 1. 0. 0.]\n",
      " [0. 0. 1. 0.]\n",
      " [0. 0. 0. 1.]]\n",
      "\n",
      "[[1. 0. 0. 0.]\n",
      " [0. 1. 0. 0.]\n",
      " [0. 0. 1. 0.]\n",
      " [0. 0. 0. 1.]]\n"
     ]
    }
   ],
   "source": [
    "#initialization from identity\n",
    "x = np.eye(4)\n",
    "y = np.identity(4)\n",
    "print(x)\n",
    "print(\"\")\n",
    "print(y)"
   ]
  },
  {
   "cell_type": "code",
   "execution_count": 135,
   "metadata": {},
   "outputs": [
    {
     "data": {
      "text/plain": [
       "array([0, 2, 4, 6, 8])"
      ]
     },
     "execution_count": 135,
     "metadata": {},
     "output_type": "execute_result"
    }
   ],
   "source": [
    "#np.arange is similar to the noral range\n",
    "print (np.arange(0,10,2))"
   ]
  },
  {
   "cell_type": "code",
   "execution_count": 164,
   "metadata": {},
   "outputs": [
    {
     "name": "stdout",
     "output_type": "stream",
     "text": [
      "['1' '2' '3']\n",
      "[1 2 3]\n"
     ]
    }
   ],
   "source": [
    "#casting\n",
    "x = np.array([\"1\",\"2\",\"3\"])\n",
    "print(x)\n",
    "x = x.astype(np.int32)\n",
    "print(x)"
   ]
  },
  {
   "cell_type": "code",
   "execution_count": 182,
   "metadata": {},
   "outputs": [
    {
     "name": "stdout",
     "output_type": "stream",
     "text": [
      "[[ 2  4  6]\n",
      " [12 15 18]]\n",
      "\n",
      "[[3 4 5]\n",
      " [7 8 9]]\n",
      "\n",
      "[[-1  0  1]\n",
      " [ 1  2  3]]\n",
      "\n",
      "[[0.5        1.         1.5       ]\n",
      " [1.33333333 1.66666667 2.        ]]\n",
      "\n",
      "[[  1   4   9]\n",
      " [ 64 125 216]]\n"
     ]
    }
   ],
   "source": [
    "#Arithematic operations between equal-sized arrays\n",
    "x = np.array([[1,2,3],[4,5,6]])\n",
    "y = np.array([[2,2,2],[3,3,3]])\n",
    "\n",
    "print(x*y)\n",
    "print()\n",
    "print(x+y)\n",
    "print()\n",
    "print(x-y)\n",
    "print()\n",
    "print(x/y)\n",
    "print()\n",
    "print(x**y)"
   ]
  },
  {
   "cell_type": "code",
   "execution_count": 183,
   "metadata": {},
   "outputs": [
    {
     "name": "stdout",
     "output_type": "stream",
     "text": [
      "[[ 2  4  6]\n",
      " [ 8 10 12]]\n",
      "\n",
      "[[3 4 5]\n",
      " [6 7 8]]\n",
      "\n",
      "[[ 1  0 -1]\n",
      " [-2 -3 -4]]\n",
      "\n",
      "[[2.         1.         0.66666667]\n",
      " [0.5        0.4        0.33333333]]\n",
      "\n",
      "[[ 1  4  9]\n",
      " [16 25 36]]\n"
     ]
    }
   ],
   "source": [
    "#Arithematic operations between arrays and scalars\n",
    "x = np.array([[1,2,3],[4,5,6]])\n",
    "\n",
    "print(x*2)\n",
    "print()\n",
    "print(x+2)\n",
    "print()\n",
    "print(2-x)\n",
    "print()\n",
    "print(2/x)\n",
    "print()\n",
    "print(x**2)"
   ]
  },
  {
   "cell_type": "code",
   "execution_count": 221,
   "metadata": {},
   "outputs": [
    {
     "name": "stdout",
     "output_type": "stream",
     "text": [
      "[[[1. 1. 1. 1.]\n",
      "  [1. 1. 1. 1.]\n",
      "  [1. 1. 1. 1.]]\n",
      "\n",
      " [[1. 1. 1. 1.]\n",
      "  [1. 1. 1. 1.]\n",
      "  [1. 1. 1. 1.]]]\n",
      "\n",
      "\n",
      "[[[ 1. 10. 10. 10.]\n",
      "  [ 1. 10. 10. 10.]\n",
      "  [ 1.  1.  1.  1.]]\n",
      "\n",
      " [[ 1.  1.  1.  1.]\n",
      "  [ 1.  1.  1.  1.]\n",
      "  [ 1.  1.  1.  1.]]]\n"
     ]
    }
   ],
   "source": [
    "#array slices are just views and not copies\n",
    "x = np.ones((2,3,4))\n",
    "print(x, end=\"\\n\\n\\n\")\n",
    "\n",
    "x_slice = x[0,:2,1:] # 1: means from 1 till the end, :2 means from the beginning till 2\n",
    "x_slice[:] = 10   #changing view(x_slice) changes original x\n",
    "print(x)"
   ]
  },
  {
   "cell_type": "code",
   "execution_count": 219,
   "metadata": {},
   "outputs": [
    {
     "name": "stdout",
     "output_type": "stream",
     "text": [
      "[[[1. 1. 1. 1.]\n",
      "  [1. 1. 1. 1.]\n",
      "  [1. 1. 1. 1.]]\n",
      "\n",
      " [[1. 1. 1. 1.]\n",
      "  [1. 1. 1. 1.]\n",
      "  [1. 1. 1. 1.]]]\n",
      "\n",
      "\n",
      "[[[1. 1. 1. 1.]\n",
      "  [1. 1. 1. 1.]\n",
      "  [1. 1. 1. 1.]]\n",
      "\n",
      " [[1. 1. 1. 1.]\n",
      "  [1. 1. 1. 1.]\n",
      "  [1. 1. 1. 1.]]]\n"
     ]
    }
   ],
   "source": [
    "#array.copy() creates a copy\n",
    "x = np.ones((2,3,4))\n",
    "print(x, end=\"\\n\\n\\n\")\n",
    "\n",
    "x_slice = x[0,:2,1:].copy()\n",
    "x_slice[:] = 10   #changing copy doesn't change original x\n",
    "print(x)"
   ]
  },
  {
   "cell_type": "code",
   "execution_count": 225,
   "metadata": {},
   "outputs": [
    {
     "name": "stdout",
     "output_type": "stream",
     "text": [
      "[[ 0  1  2  3]\n",
      " [ 4  5  6  7]\n",
      " [ 8  9 10 11]\n",
      " [12 13 14 15]]\n",
      "\n",
      "[[ 0  4  8 12]\n",
      " [ 1  5  9 13]\n",
      " [ 2  6 10 14]\n",
      " [ 3  7 11 15]]\n"
     ]
    }
   ],
   "source": [
    "#transposing\n",
    "x = np.arange(16).reshape((4,4))\n",
    "print(x, end='\\n\\n')\n",
    "print(x.T)"
   ]
  },
  {
   "cell_type": "code",
   "execution_count": 231,
   "metadata": {},
   "outputs": [
    {
     "name": "stdout",
     "output_type": "stream",
     "text": [
      "[[-0.42462901  1.56703972  1.41828385 -1.03116491]\n",
      " [ 0.5872827  -2.58689068  0.0616155   0.18681166]\n",
      " [-0.23664954  0.19633375  0.63850885  1.00975961]\n",
      " [ 2.14544751  1.50251017 -0.23995476 -1.70094855]]\n",
      "\n",
      "[[-0.17164724  0.19055176  0.52754495  0.43815992]\n",
      " [-0.05145505 -0.3430007   0.1865854   0.104288  ]\n",
      " [ 0.47170345  0.35416108  0.50373792  0.0519778 ]\n",
      " [-0.32849869 -0.11259945  0.75916004  0.04954328]]\n"
     ]
    }
   ],
   "source": [
    "#inverse\n",
    "from numpy.linalg import inv\n",
    "x = np.random.randn(4,4)\n",
    "print(x, end='\\n\\n')\n",
    "print(inv(x))"
   ]
  },
  {
   "cell_type": "code",
   "execution_count": 239,
   "metadata": {},
   "outputs": [
    {
     "name": "stdout",
     "output_type": "stream",
     "text": [
      "[[3 1 2]\n",
      " [2 1 0]\n",
      " [4 3 2]]\n"
     ]
    },
    {
     "data": {
      "text/plain": [
       "6.0"
      ]
     },
     "execution_count": 239,
     "metadata": {},
     "output_type": "execute_result"
    }
   ],
   "source": [
    "#determinant\n",
    "x = np.random.randint(5, size=(3,3))\n",
    "print(x)\n",
    "np.linalg.det(x)"
   ]
  },
  {
   "cell_type": "code",
   "execution_count": 241,
   "metadata": {},
   "outputs": [
    {
     "name": "stdout",
     "output_type": "stream",
     "text": [
      "[[0 3 4]\n",
      " [3 4 4]\n",
      " [1 0 2]]\n"
     ]
    },
    {
     "data": {
      "text/plain": [
       "6"
      ]
     },
     "execution_count": 241,
     "metadata": {},
     "output_type": "execute_result"
    }
   ],
   "source": [
    "#trace\n",
    "x = np.random.randint(5, size=(3,3))\n",
    "print(x)\n",
    "np.trace(x)"
   ]
  },
  {
   "cell_type": "code",
   "execution_count": 260,
   "metadata": {},
   "outputs": [
    {
     "name": "stdout",
     "output_type": "stream",
     "text": [
      "[[ 0.6483711   0.2199622  -1.16126007]\n",
      " [ 0.02669981  0.03393603 -1.22005731]\n",
      " [-1.15307105 -2.15821486  1.11992944]]\n",
      "\n",
      "eigenvalues = [ 2.7758426   0.36542654 -1.33903258]\n",
      "corresponding eigenvectors = \n",
      "[[-0.47522548 -0.89279504  0.34350019]\n",
      " [-0.36155588  0.4293791   0.62009506]\n",
      " [ 0.80214593 -0.13620061  0.70532952]]\n"
     ]
    }
   ],
   "source": [
    "#eigenvalues and eigenvectors\n",
    "x = np.random.randn(3,3)\n",
    "print(x, end='\\n\\n')\n",
    "eigenvalues, eigenvectors = np.linalg.eig(x)\n",
    "print(f\"eigenvalues = {eigenvalues}\\ncorresponding eigenvectors = \\n{eigenvectors}\")"
   ]
  },
  {
   "cell_type": "code",
   "execution_count": 267,
   "metadata": {},
   "outputs": [
    {
     "name": "stdout",
     "output_type": "stream",
     "text": [
      "[[1 2 3]\n",
      " [2 3 5]\n",
      " [3 1 4]] x [ 0.65384615 -0.34615385  0.34615385] = [1 2 3]\n"
     ]
    }
   ],
   "source": [
    "#solve\n",
    "a = np.array([[1,2,3],[2,3,5],[3,1,4]])\n",
    "b = np.array([1,2,3])\n",
    "x = np.linalg.solve(a,b)\n",
    "print(f\"{a} x {x} = {b}\")"
   ]
  },
  {
   "cell_type": "code",
   "execution_count": 278,
   "metadata": {},
   "outputs": [
    {
     "name": "stdout",
     "output_type": "stream",
     "text": [
      "1.0 -0.95\n"
     ]
    }
   ],
   "source": [
    "#least square solution for y = wx + b\n",
    "x = np.array([0, 1, 2, 3])\n",
    "A = np.vstack([x, np.ones(len(x))]).T #include the bias term in A\n",
    "y = np.array([-1, 0.2, 0.9, 2.1])\n",
    "\n",
    "w, b = np.linalg.lstsq(A,y, rcond=None)[0]\n",
    "print(round(w,2),round(b,2))"
   ]
  },
  {
   "cell_type": "markdown",
   "metadata": {},
   "source": [
    "### Resources\n",
    "* https://docs.python.org/3/tutorial/introduction.html\n",
    "* Python for Data Analysis by Wes McKinney (1st Edition)\n",
    "* Python Essential Reference by David Beazley (4th Edition)\n",
    "* https://pandas.pydata.org/pandas-docs/stable/10min.html (for a pandas quick tutorial)\n",
    "* https://nlp.stanford.edu/IR-book/html/htmledition/linear-algebra-review-1.html"
   ]
  }
 ],
 "metadata": {
  "kernelspec": {
   "display_name": "Python 3",
   "language": "python",
   "name": "python3"
  },
  "language_info": {
   "codemirror_mode": {
    "name": "ipython",
    "version": 3
   },
   "file_extension": ".py",
   "mimetype": "text/x-python",
   "name": "python",
   "nbconvert_exporter": "python",
   "pygments_lexer": "ipython3",
   "version": "3.6.5"
  }
 },
 "nbformat": 4,
 "nbformat_minor": 2
}
