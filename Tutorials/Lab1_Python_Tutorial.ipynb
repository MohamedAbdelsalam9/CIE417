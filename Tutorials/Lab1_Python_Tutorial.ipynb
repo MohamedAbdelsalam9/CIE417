{
 "cells": [
  {
   "cell_type": "markdown",
   "metadata": {},
   "source": [
    "<h1 align=\"center\">Zewail University of Science and Technology</h1>\n",
    "<h2 align=\"center\">CIE 417 (Fall 2018)</h2>\n",
    "<h2 align=\"center\">Lab 1: Python Tutorial</h3>\n",
    "<h3 align=\"center\">20/09/2018</h3>"
   ]
  },
  {
   "cell_type": "markdown",
   "metadata": {},
   "source": [
    "### Dynamically Typed Language"
   ]
  },
  {
   "cell_type": "code",
   "execution_count": 50,
   "metadata": {},
   "outputs": [
    {
     "name": "stdout",
     "output_type": "stream",
     "text": [
      "2.1\n"
     ]
    }
   ],
   "source": [
    "x = 1 #x is bound to a value of type int\n",
    "x *= 2.1 #x is now bound to another value of type float\n",
    "print (x)"
   ]
  },
  {
   "cell_type": "markdown",
   "metadata": {},
   "source": [
    "### Conditional"
   ]
  },
  {
   "cell_type": "code",
   "execution_count": 52,
   "metadata": {},
   "outputs": [
    {
     "name": "stdout",
     "output_type": "stream",
     "text": [
      "x is greater than y\n"
     ]
    }
   ],
   "source": [
    "x = 2\n",
    "y = 1\n",
    "\n",
    "if x == y:\n",
    "    print(\"x equals y\")\n",
    "elif x > y:\n",
    "    print (\"x is greater than y\")\n",
    "else:\n",
    "    print (\"x is smaller than y\")"
   ]
  },
  {
   "cell_type": "markdown",
   "metadata": {},
   "source": [
    "### Strings"
   ]
  },
  {
   "cell_type": "code",
   "execution_count": 65,
   "metadata": {},
   "outputs": [
    {
     "name": "stdout",
     "output_type": "stream",
     "text": [
      "This is a single line written in two lines\n"
     ]
    }
   ],
   "source": [
    "x = \"This is a single \\\n",
    "line written in two lines\"  # \\ is used to continue the statement in another line\n",
    "print(x)"
   ]
  },
  {
   "cell_type": "code",
   "execution_count": 66,
   "metadata": {},
   "outputs": [
    {
     "name": "stdout",
     "output_type": "stream",
     "text": [
      "This is a\n",
      "three\n",
      "    lines\n",
      "        statement\n"
     ]
    }
   ],
   "source": [
    "x = '''This is a\n",
    "three\n",
    "    lines\n",
    "        statement'''\n",
    "print(x)"
   ]
  },
  {
   "cell_type": "code",
   "execution_count": 67,
   "metadata": {},
   "outputs": [
    {
     "name": "stdout",
     "output_type": "stream",
     "text": [
      "Hello\n"
     ]
    }
   ],
   "source": [
    "x = 'Hello World' \n",
    "print(x[0:5]) #strings are indexable"
   ]
  },
  {
   "cell_type": "code",
   "execution_count": 72,
   "metadata": {},
   "outputs": [
    {
     "name": "stdout",
     "output_type": "stream",
     "text": [
      "2018\n"
     ]
    }
   ],
   "source": [
    "x = \"20\"\n",
    "y = \"18\"\n",
    "print(x + y) #strings can be concatenated using + operator"
   ]
  },
  {
   "cell_type": "code",
   "execution_count": 86,
   "metadata": {},
   "outputs": [
    {
     "name": "stdout",
     "output_type": "stream",
     "text": [
      "2018\n",
      "2018.00\n",
      "2018\n"
     ]
    }
   ],
   "source": [
    "#non-string objects can be converted to strings using str() or format()\n",
    "x = \"20\"\n",
    "y = 18\n",
    "print(x + str(y))\n",
    "print(x + format(y, \"0.2f\"))\n",
    "print(x + format(y, \"d\"))"
   ]
  },
  {
   "cell_type": "code",
   "execution_count": 87,
   "metadata": {},
   "outputs": [
    {
     "ename": "TypeError",
     "evalue": "'str' object does not support item assignment",
     "output_type": "error",
     "traceback": [
      "\u001b[1;31m---------------------------------------------------------------------------\u001b[0m",
      "\u001b[1;31mTypeError\u001b[0m                                 Traceback (most recent call last)",
      "\u001b[1;32m<ipython-input-87-4aa45294cf9e>\u001b[0m in \u001b[0;36m<module>\u001b[1;34m()\u001b[0m\n\u001b[0;32m      1\u001b[0m \u001b[0mx\u001b[0m \u001b[1;33m=\u001b[0m \u001b[1;34m\"Hello\"\u001b[0m\u001b[1;33m\u001b[0m\u001b[0m\n\u001b[1;32m----> 2\u001b[1;33m \u001b[0mx\u001b[0m\u001b[1;33m[\u001b[0m\u001b[1;36m1\u001b[0m\u001b[1;33m]\u001b[0m \u001b[1;33m=\u001b[0m \u001b[1;34m's'\u001b[0m \u001b[1;31m#strings are immutable\u001b[0m\u001b[1;33m\u001b[0m\u001b[0m\n\u001b[0m",
      "\u001b[1;31mTypeError\u001b[0m: 'str' object does not support item assignment"
     ]
    }
   ],
   "source": [
    "x = \"Hello\"\n",
    "x[1] = 's' #strings are immutable"
   ]
  },
  {
   "cell_type": "markdown",
   "metadata": {},
   "source": [
    "### Lists"
   ]
  },
  {
   "cell_type": "code",
   "execution_count": 124,
   "metadata": {},
   "outputs": [],
   "source": [
    "x = [\"Hello\", \"World\", \".\"]"
   ]
  },
  {
   "cell_type": "code",
   "execution_count": 125,
   "metadata": {},
   "outputs": [
    {
     "name": "stdout",
     "output_type": "stream",
     "text": [
      "Hello\n"
     ]
    }
   ],
   "source": [
    "#lists are indexable\n",
    "print (x[0])"
   ]
  },
  {
   "cell_type": "code",
   "execution_count": 126,
   "metadata": {},
   "outputs": [
    {
     "name": "stdout",
     "output_type": "stream",
     "text": [
      ".\n",
      "!\n"
     ]
    }
   ],
   "source": [
    "#lists are mutable\n",
    "print (x[2])\n",
    "x[2] = \"!\"\n",
    "print (x[2])"
   ]
  },
  {
   "cell_type": "code",
   "execution_count": 127,
   "metadata": {},
   "outputs": [
    {
     "name": "stdout",
     "output_type": "stream",
     "text": [
      "['Hello', 'World', '!', '!']\n"
     ]
    }
   ],
   "source": [
    "#appending items at the end\n",
    "x.append(\"!\")\n",
    "print (x)"
   ]
  },
  {
   "cell_type": "code",
   "execution_count": 128,
   "metadata": {},
   "outputs": [
    {
     "name": "stdout",
     "output_type": "stream",
     "text": [
      "['Hello', ',', 'World', '!', '!']\n"
     ]
    }
   ],
   "source": [
    "#inserting items in the middle\n",
    "x.insert(1,\",\")\n",
    "print (x)"
   ]
  },
  {
   "cell_type": "code",
   "execution_count": 131,
   "metadata": {},
   "outputs": [
    {
     "name": "stdout",
     "output_type": "stream",
     "text": [
      "['Hello,', ' ', 'World', '!', '!']\n"
     ]
    }
   ],
   "source": [
    "#slicing\n",
    "x[0:2] = ['Hello,', ' ']\n",
    "print(x)"
   ]
  },
  {
   "cell_type": "code",
   "execution_count": 133,
   "metadata": {},
   "outputs": [
    {
     "name": "stdout",
     "output_type": "stream",
     "text": [
      "['Hello', ', ', 'World', '!']\n"
     ]
    }
   ],
   "source": [
    "#lists Concatenation\n",
    "x = [\"Hello\", \", \"]\n",
    "y = [\"World\", \"!\"]\n",
    "print(x + y)"
   ]
  },
  {
   "cell_type": "code",
   "execution_count": 136,
   "metadata": {},
   "outputs": [
    {
     "name": "stdout",
     "output_type": "stream",
     "text": [
      "[', ', 'World']\n",
      ", \n"
     ]
    }
   ],
   "source": [
    "#lists within lists\n",
    "x = [\"Hello\", [\", \", \"World\"], \"!\"]\n",
    "print(x[1])\n",
    "print(x[1][0])"
   ]
  },
  {
   "cell_type": "markdown",
   "metadata": {},
   "source": [
    "### Tuples"
   ]
  },
  {
   "cell_type": "code",
   "execution_count": 151,
   "metadata": {},
   "outputs": [],
   "source": [
    "x= (\"Hello\", \",\")\n",
    "y = \"World\", \"!\"  #This is also a tuple"
   ]
  },
  {
   "cell_type": "code",
   "execution_count": 152,
   "metadata": {},
   "outputs": [
    {
     "name": "stdout",
     "output_type": "stream",
     "text": [
      "Hello\n",
      "('Hello', ',')\n",
      "('Hello', ',', 'World', '!')\n"
     ]
    }
   ],
   "source": [
    "#indexing\n",
    "print(x[0])\n",
    "\n",
    "#slicing\n",
    "print (x[0:2])\n",
    "\n",
    "#concatenating\n",
    "print (x + y)"
   ]
  },
  {
   "cell_type": "code",
   "execution_count": 153,
   "metadata": {},
   "outputs": [
    {
     "ename": "TypeError",
     "evalue": "'tuple' object does not support item assignment",
     "output_type": "error",
     "traceback": [
      "\u001b[1;31m---------------------------------------------------------------------------\u001b[0m",
      "\u001b[1;31mTypeError\u001b[0m                                 Traceback (most recent call last)",
      "\u001b[1;32m<ipython-input-153-985c0611f4f6>\u001b[0m in \u001b[0;36m<module>\u001b[1;34m()\u001b[0m\n\u001b[0;32m      1\u001b[0m \u001b[1;31m#tuples are immutable\u001b[0m\u001b[1;33m\u001b[0m\u001b[1;33m\u001b[0m\u001b[0m\n\u001b[1;32m----> 2\u001b[1;33m \u001b[0mx\u001b[0m\u001b[1;33m[\u001b[0m\u001b[1;36m0\u001b[0m\u001b[1;33m]\u001b[0m \u001b[1;33m=\u001b[0m \u001b[1;34m\"s\"\u001b[0m\u001b[1;33m\u001b[0m\u001b[0m\n\u001b[0m",
      "\u001b[1;31mTypeError\u001b[0m: 'tuple' object does not support item assignment"
     ]
    }
   ],
   "source": [
    "#tuples are immutable\n",
    "x[0] = \"s\""
   ]
  },
  {
   "cell_type": "code",
   "execution_count": 156,
   "metadata": {},
   "outputs": [
    {
     "name": "stdout",
     "output_type": "stream",
     "text": [
      "Hello\n",
      ",\n"
     ]
    }
   ],
   "source": [
    "#unpacking tuples\n",
    "var1, var2 = x\n",
    "print(var1)\n",
    "print(var2)"
   ]
  },
  {
   "cell_type": "markdown",
   "metadata": {},
   "source": [
    "### Sets"
   ]
  },
  {
   "cell_type": "code",
   "execution_count": 163,
   "metadata": {},
   "outputs": [
    {
     "name": "stdout",
     "output_type": "stream",
     "text": [
      "{1, 2, 3}\n",
      "{'e', 'H', 'l', 'o'}\n"
     ]
    }
   ],
   "source": [
    "#sets are unordered and don't contain duplicates\n",
    "x = set([1,2,3,1,2])\n",
    "y = set(\"Hello\")\n",
    "print(x)\n",
    "print(y)"
   ]
  },
  {
   "cell_type": "code",
   "execution_count": 166,
   "metadata": {},
   "outputs": [
    {
     "name": "stdout",
     "output_type": "stream",
     "text": [
      "{1, 2, 3, 4, 6}\n",
      "{2}\n",
      "{1, 3}\n",
      "{1, 3, 4, 6}\n"
     ]
    }
   ],
   "source": [
    "x = set([1,2,3])\n",
    "y = set([2,4,6])\n",
    "\n",
    "#union\n",
    "print (x | y)\n",
    "\n",
    "#intersection\n",
    "print (x & y)\n",
    "\n",
    "#difference\n",
    "print (x - y)\n",
    "\n",
    "#symmetric difference\n",
    "print (x ^ y)"
   ]
  },
  {
   "cell_type": "code",
   "execution_count": 173,
   "metadata": {},
   "outputs": [],
   "source": [
    "#single items can be added using add(), multiple items can be added using update()\n",
    "x.add(4)\n",
    "y.update([6,8,10])\n",
    "print(x)\n",
    "print(y)"
   ]
  },
  {
   "cell_type": "code",
   "execution_count": 177,
   "metadata": {},
   "outputs": [
    {
     "name": "stdout",
     "output_type": "stream",
     "text": [
      "{1, 2, 4}\n"
     ]
    }
   ],
   "source": [
    "#items can be removed using remove()\n",
    "x.remove(3)\n",
    "print(x)"
   ]
  },
  {
   "cell_type": "markdown",
   "metadata": {},
   "source": [
    "### Dictionaries"
   ]
  },
  {
   "cell_type": "code",
   "execution_count": 7,
   "metadata": {},
   "outputs": [
    {
     "name": "stdout",
     "output_type": "stream",
     "text": [
      "Ahmed\n"
     ]
    }
   ],
   "source": [
    "#dictionary initialization\n",
    "student = {\"name\" : \"Ahmed\", \"id\":20150001, \"courses\":[\"CIE 417\", \"CIE 418\", \"CIE 419\"]}\n",
    "\n",
    "#accessing members\n",
    "print(student[\"name\"])"
   ]
  },
  {
   "cell_type": "code",
   "execution_count": 11,
   "metadata": {},
   "outputs": [
    {
     "name": "stdout",
     "output_type": "stream",
     "text": [
      "{'name': 'Ahmed', 'id': 20150001, 'courses': ['CIE 417', 'CIE 418', 'CIE 419'], 'GPA': 1.0}\n"
     ]
    }
   ],
   "source": [
    "#check for a dictionary member, and add it if it is not found\n",
    "if \"GPA\" in student:\n",
    "    print(student)\n",
    "else:\n",
    "    student[\"GPA\"] = 1.00\n",
    "    print(student)"
   ]
  },
  {
   "cell_type": "code",
   "execution_count": 10,
   "metadata": {},
   "outputs": [
    {
     "name": "stdout",
     "output_type": "stream",
     "text": [
      "Ahmed 01000000000\n"
     ]
    }
   ],
   "source": [
    "#get() function returns the value if found, or return a default value if not\n",
    "name = student.get(\"name\", \"Mohamed\")\n",
    "number = student.get(\"number\", \"01000000000\")\n",
    "print(name,number)"
   ]
  },
  {
   "cell_type": "code",
   "execution_count": 12,
   "metadata": {},
   "outputs": [
    {
     "name": "stdout",
     "output_type": "stream",
     "text": [
      "{'name': 'Ahmed', 'id': 20150001, 'courses': ['CIE 417', 'CIE 418', 'CIE 419']}\n"
     ]
    }
   ],
   "source": [
    "#delete dictionary member\n",
    "del student[\"GPA\"]\n",
    "print(student)"
   ]
  },
  {
   "cell_type": "code",
   "execution_count": 20,
   "metadata": {},
   "outputs": [
    {
     "name": "stdout",
     "output_type": "stream",
     "text": [
      "['name', 'id', 'courses']\n"
     ]
    }
   ],
   "source": [
    "#get a list of dictionary keys using list(student)\n",
    "print (list(student))"
   ]
  },
  {
   "cell_type": "markdown",
   "metadata": {},
   "source": [
    "### Iteration"
   ]
  },
  {
   "cell_type": "code",
   "execution_count": 23,
   "metadata": {},
   "outputs": [
    {
     "name": "stdout",
     "output_type": "stream",
     "text": [
      "5\n",
      "4\n",
      "3\n",
      "2\n",
      "1\n"
     ]
    }
   ],
   "source": [
    "#while loop\n",
    "x = 5\n",
    "while x:\n",
    "    print(x)\n",
    "    x -= 1"
   ]
  },
  {
   "cell_type": "code",
   "execution_count": 31,
   "metadata": {},
   "outputs": [
    {
     "name": "stdout",
     "output_type": "stream",
     "text": [
      "0 1 2 3 4 5 \n",
      "5 6 7 8 9 10 \n",
      "0 2 4 6 8 10 "
     ]
    }
   ],
   "source": [
    "#for loop using range\n",
    "for i in range(6):\n",
    "    print(i,end=\" \")\n",
    "    \n",
    "print(\"\")\n",
    "for i in range(5, 11):\n",
    "    print(i,end=\" \")\n",
    "    \n",
    "print(\"\")\n",
    "for i in range(0, 11, 2):\n",
    "    print(i,end=\" \")"
   ]
  },
  {
   "cell_type": "code",
   "execution_count": 42,
   "metadata": {},
   "outputs": [
    {
     "name": "stdout",
     "output_type": "stream",
     "text": [
      "H e l l o \n",
      "\n",
      "W o r l d \n",
      "\n",
      "name Ahmed\n",
      "id 20150001\n",
      "courses ['CIE 417', 'CIE 418', 'CIE 419']\n",
      "\n",
      "\n",
      "Ahmed 20150001 ['CIE 417', 'CIE 418', 'CIE 419']\n",
      "Mohamed 20150002 ['CIE 417', 'CIE 418', 'CIE 419']\n"
     ]
    }
   ],
   "source": [
    "#iterating over iterables\n",
    "\n",
    "#iterating over the characters of a string\n",
    "x = \"Hello\"\n",
    "for c in x:\n",
    "    print (c, end=\" \")\n",
    "    \n",
    "#iterating over a list\n",
    "print(\"\\n\")\n",
    "x = [\"W\", \"o\", \"r\", \"l\", \"d\"]\n",
    "for c in x:\n",
    "    print (c, end=\" \")\n",
    "    \n",
    "#iterating over a dictionary\n",
    "print(\"\\n\")\n",
    "student = {\"name\" : \"Ahmed\", \"id\":20150001, \"courses\":[\"CIE 417\", \"CIE 418\", \"CIE 419\"]}\n",
    "for key in student:\n",
    "    print (key, student[key])\n",
    "    \n",
    "#iterating over a list of tuples\n",
    "print(\"\\n\")\n",
    "student = [(\"Ahmed\", 20150001, [\"CIE 417\", \"CIE 418\", \"CIE 419\"]), (\"Mohamed\", 20150002, [\"CIE 417\", \"CIE 418\", \"CIE 419\"])]\n",
    "for name, uni_id, courses in student:\n",
    "    print (name, uni_id, courses)"
   ]
  },
  {
   "cell_type": "code",
   "execution_count": 47,
   "metadata": {},
   "outputs": [
    {
     "name": "stdout",
     "output_type": "stream",
     "text": [
      "['0', '2', '4', '6', '8', '10', '12', '14', '16', '18']\n"
     ]
    }
   ],
   "source": [
    "#list comprehension, for example create a list of even numbers as strings\n",
    "y = [str(i) for i in range(20) if i%2==0]\n",
    "print(y)"
   ]
  },
  {
   "cell_type": "code",
   "execution_count": null,
   "metadata": {},
   "outputs": [],
   "source": []
  }
 ],
 "metadata": {
  "kernelspec": {
   "display_name": "Python 3",
   "language": "python",
   "name": "python3"
  },
  "language_info": {
   "codemirror_mode": {
    "name": "ipython",
    "version": 3
   },
   "file_extension": ".py",
   "mimetype": "text/x-python",
   "name": "python",
   "nbconvert_exporter": "python",
   "pygments_lexer": "ipython3",
   "version": "3.6.5"
  }
 },
 "nbformat": 4,
 "nbformat_minor": 2
}
