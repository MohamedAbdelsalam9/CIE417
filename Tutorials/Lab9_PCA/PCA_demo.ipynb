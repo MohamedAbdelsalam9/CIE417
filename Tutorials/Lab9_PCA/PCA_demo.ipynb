{
 "cells": [
  {
   "cell_type": "markdown",
   "metadata": {},
   "source": [
    "## PCA Demo\n",
    "\n",
    "Source: https://github.com/UBC-CS/cpsc340/blob/master/lectures/L24demo.ipynb"
   ]
  },
  {
   "cell_type": "code",
   "execution_count": null,
   "metadata": {},
   "outputs": [],
   "source": [
    "import numpy as np\n",
    "import matplotlib.pyplot as plt\n",
    "%matplotlib inline\n",
    "from sklearn.decomposition import PCA\n",
    "\n",
    "import plotly.graph_objs as go\n",
    "\n",
    "from plotly.offline import download_plotlyjs, init_notebook_mode, plot, iplot\n",
    "init_notebook_mode(connected=True)"
   ]
  },
  {
   "cell_type": "markdown",
   "metadata": {},
   "source": [
    "Create a synthetic data set"
   ]
  },
  {
   "cell_type": "code",
   "execution_count": null,
   "metadata": {},
   "outputs": [],
   "source": [
    "n = 12\n",
    "d = 2\n",
    "\n",
    "x1 = np.linspace(0,5,n)  + np.random.randn(n)*0.05\n",
    "x2 = x1*0.7 + np.random.randn(n)*0.5\n",
    "x1 = x1-np.mean(x1)\n",
    "x2 = x2-np.mean(x2)\n",
    "\n",
    "X = np.concatenate((x1[:,None],x2[:,None]),axis=1)\n",
    "\n",
    "plt.scatter(x1,x2)\n",
    "plt.xlabel('x1')\n",
    "plt.ylabel('x2');"
   ]
  },
  {
   "cell_type": "markdown",
   "metadata": {},
   "source": [
    "## <font color = \"#af00af\"> If we wanted to represent this data using only one feature, what would it be? <font/>"
   ]
  },
  {
   "cell_type": "code",
   "execution_count": null,
   "metadata": {},
   "outputs": [],
   "source": [
    "k = 1\n",
    "pca = PCA(n_components=k)\n",
    "pca.fit(X);"
   ]
  },
  {
   "cell_type": "markdown",
   "metadata": {},
   "source": [
    "### Visualizing PCA"
   ]
  },
  {
   "cell_type": "code",
   "execution_count": null,
   "metadata": {},
   "outputs": [],
   "source": [
    "def make_plot(pca, X):\n",
    "    W = pca.components_\n",
    "    Z = pca.transform(X)\n",
    "\n",
    "    # visualize the subspace spanned by W\n",
    "    grid = np.linspace(min(X[:,0])-.3,max(X[:,0])+.3,1000)\n",
    "    gridplot = (grid-pca.mean_[0])/W[0,0]*W[0,1]+pca.mean_[1]\n",
    "    grid_Z = np.linspace(min(Z[:,0])-.3,max(Z[:,0])+.3,1000)\n",
    "\n",
    "    # visualize the reconstructions\n",
    "    Xhat = pca.inverse_transform(Z)\n",
    "    # xhat = Z@W + pca.mean_ # the same\n",
    "\n",
    "    f, (ax1, ax2) = plt.subplots(1, 2)\n",
    "    ax1.scatter(X[:,0],X[:,1], label=\"original data\")\n",
    "    ax1.set_xlabel('x1')\n",
    "    ax1.set_ylabel('x2');\n",
    "    ax1.plot(grid, gridplot, 'black', label=\"model\")\n",
    "    ax1.scatter(Xhat[:,0],Xhat[:,1], c='red', label=\"reconstructions\")\n",
    "    ax1.axis('equal');\n",
    "    ax2.scatter(-Z,np.zeros(Z.shape))\n",
    "    ax2.plot(grid_Z, np.zeros(grid_Z.shape), 'black', label=\"model\")\n",
    "    ax1.set_title(\"Old Features\")\n",
    "    ax2.set_title(\"New Feature\")\n",
    "    \n",
    "    for i in range (X.shape[0]):\n",
    "        ax1.plot((X[i,0],Xhat[i,0]),(X[i,1],Xhat[i,1]), 'red')\n",
    "    \n",
    "    ax1.legend()\n",
    "    f.set_size_inches(18.5, 4.5)\n",
    "    \n",
    "make_plot(pca, X)"
   ]
  },
  {
   "cell_type": "markdown",
   "metadata": {},
   "source": [
    "The line gives us a new, 1D coordinate system."
   ]
  },
  {
   "cell_type": "markdown",
   "metadata": {},
   "source": [
    "#### Moving to $d=3,k=2$"
   ]
  },
  {
   "cell_type": "code",
   "execution_count": null,
   "metadata": {},
   "outputs": [],
   "source": [
    "n = 20\n",
    "d = 3\n",
    "\n",
    "x1 = np.linspace(0,5,n)  + np.random.randn(n)*0.05\n",
    "x2 = -x1*0.1 + np.random.randn(n)*2\n",
    "x3 = x1*0.7 + np.random.randn(n)*3\n",
    "\n",
    "X = np.concatenate((x1[:,None],x2[:,None],x3[:,None]),axis=1)\n",
    "X = X - np.mean(X,axis=0)\n"
   ]
  },
  {
   "cell_type": "markdown",
   "metadata": {},
   "source": [
    "Let's look at the points."
   ]
  },
  {
   "cell_type": "code",
   "execution_count": null,
   "metadata": {},
   "outputs": [],
   "source": [
    "trace = go.Scatter3d(x=X[:,0], y=X[:,1], z=X[:,2], mode='markers')\n",
    "fig = go.Figure(data=[trace])\n",
    "iplot(fig)"
   ]
  },
  {
   "cell_type": "markdown",
   "metadata": {},
   "source": [
    "Let's look at what PCA gives us"
   ]
  },
  {
   "cell_type": "code",
   "execution_count": null,
   "metadata": {
    "scrolled": false
   },
   "outputs": [],
   "source": [
    "# fit PCA\n",
    "pca = PCA(n_components=2)\n",
    "pca.fit(X)\n",
    "\n",
    "# get grid for visualizing plane\n",
    "z1 = np.linspace(-7,7,100)\n",
    "z2 = np.linspace(-7,7,100)\n",
    "z1grid, z2grid = np.meshgrid(z1, z2)\n",
    "Zgrid = np.concatenate((z1grid.flatten()[:,None],z2grid.flatten()[:,None]),axis=1)\n",
    "Xgrid = pca.inverse_transform(Zgrid)\n",
    "Xgrid_re = np.reshape(Xgrid, (100,100,3))\n",
    "\n",
    "# get reconstructions of original points\n",
    "Z = pca.transform(X)\n",
    "Xhat = pca.inverse_transform(Z)\n",
    "\n",
    "traces1 = []\n",
    "for i in range(n):\n",
    "    traces1.append(go.Scatter3d(x=(X[i,0],Xhat[i,0]), y=(X[i,1],Xhat[i,1]), z=(X[i,2],Xhat[i,2]), marker = dict(\n",
    "        color = 'blue'\n",
    "    )))\n",
    "\n",
    "trace2 = go.Surface(x=Xgrid_re[:,:,0], y=Xgrid_re[:,:,1], z=Xgrid_re[:,:,2], showscale=False, opacity=0.9)\n",
    "\n",
    "trace3 = go.Scatter3d(x=Xhat[:,0], y=Xhat[:,1], z=Xhat[:,2], mode='markers')\n",
    "\n",
    "data =  traces1 + [trace2, trace3]\n",
    "\n",
    "layout = go.Layout(showlegend=False)\n",
    "\n",
    "fig = go.Figure(data=data, layout=layout)\n",
    "iplot(fig)"
   ]
  },
  {
   "cell_type": "markdown",
   "metadata": {},
   "source": [
    "We can also make a scatter plot of these $Z$-values:"
   ]
  },
  {
   "cell_type": "code",
   "execution_count": null,
   "metadata": {},
   "outputs": [],
   "source": [
    "plt.scatter(Z[:,0],Z[:,1])\n",
    "plt.xlabel('z1')\n",
    "plt.ylabel('z2');"
   ]
  },
  {
   "cell_type": "markdown",
   "metadata": {},
   "source": [
    "Above: this is projecting and rotating the data."
   ]
  },
  {
   "cell_type": "markdown",
   "metadata": {},
   "source": [
    "$d=3,k=1$"
   ]
  },
  {
   "cell_type": "code",
   "execution_count": null,
   "metadata": {},
   "outputs": [],
   "source": [
    "n = 12\n",
    "d = 3\n",
    "\n",
    "x1 = np.linspace(0,5,n)  + np.random.randn(n)*0.05\n",
    "x2 = -x1*0.1 + np.random.randn(n)*2\n",
    "x3 = x1*0.7 + np.random.randn(n)*1.5\n",
    "\n",
    "X = np.concatenate((x1[:,None],x2[:,None],x3[:,None]),axis=1)\n",
    "X = X - np.mean(X,axis=0)\n",
    "\n",
    "# fit PCA\n",
    "pca = PCA(n_components=1)\n",
    "pca.fit(X)\n",
    "\n",
    "# get grid for visualizing plane\n",
    "Zgrid = np.linspace(-7,7,100)[:,None]\n",
    "Xgrid = pca.inverse_transform(Zgrid)\n",
    "\n",
    "# get reconstructions of original points\n",
    "Xhat = pca.inverse_transform(pca.transform(X))\n",
    "\n",
    "traces1 = []\n",
    "for i in range(n):\n",
    "    traces1.append(go.Scatter3d(x=(X[i,0],Xhat[i,0]), \n",
    "                                y=(X[i,1],Xhat[i,1]), \n",
    "                                z=(X[i,2],Xhat[i,2]), \n",
    "                                marker={'color':'blue'}))\n",
    "\n",
    "trace2 = go.Scatter3d(x=Xgrid[:,0], y=Xgrid[:,1], z=Xgrid[:,2], mode='lines', marker={'color':'black'})\n",
    "\n",
    "trace3 = go.Scatter3d(x=Xhat[:,0], y=Xhat[:,1], z=Xhat[:,2], mode='markers')\n",
    "\n",
    "data =  traces1 + [trace2, trace3]\n",
    "\n",
    "layout = go.Layout(showlegend=False)\n",
    "\n",
    "fig = go.Figure(data=data, layout=layout)\n",
    "iplot(fig)"
   ]
  },
  {
   "cell_type": "code",
   "execution_count": null,
   "metadata": {},
   "outputs": [],
   "source": []
  }
 ],
 "metadata": {
  "kernelspec": {
   "display_name": "Python 3",
   "language": "python",
   "name": "python3"
  },
  "language_info": {
   "codemirror_mode": {
    "name": "ipython",
    "version": 3
   },
   "file_extension": ".py",
   "mimetype": "text/x-python",
   "name": "python",
   "nbconvert_exporter": "python",
   "pygments_lexer": "ipython3",
   "version": "3.6.5"
  }
 },
 "nbformat": 4,
 "nbformat_minor": 2
}
